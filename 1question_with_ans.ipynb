{
  "nbformat": 4,
  "nbformat_minor": 0,
  "metadata": {
    "colab": {
      "provenance": [],
      "authorship_tag": "ABX9TyOwED+T2JFSnGee5g+8adIE",
      "include_colab_link": true
    },
    "kernelspec": {
      "name": "python3",
      "display_name": "Python 3"
    },
    "language_info": {
      "name": "python"
    }
  },
  "cells": [
    {
      "cell_type": "markdown",
      "metadata": {
        "id": "view-in-github",
        "colab_type": "text"
      },
      "source": [
        "<a href=\"https://colab.research.google.com/github/kiran1234098/python1/blob/main/1question_with_ans.ipynb\" target=\"_parent\"><img src=\"https://colab.research.google.com/assets/colab-badge.svg\" alt=\"Open In Colab\"/></a>"
      ]
    },
    {
      "cell_type": "markdown",
      "source": [
        "#How do you reverse a string?"
      ],
      "metadata": {
        "id": "soLbxRI88aAY"
      }
    },
    {
      "cell_type": "code",
      "execution_count": 2,
      "metadata": {
        "colab": {
          "base_uri": "https://localhost:8080/"
        },
        "id": "u5VKwA7E8Yz7",
        "outputId": "a1f9f738-2840-42b3-80d6-cc865b7cabb2"
      },
      "outputs": [
        {
          "output_type": "stream",
          "name": "stdout",
          "text": [
            "kiran\n",
            "narik\n"
          ]
        }
      ],
      "source": [
        "str_my = \"kiran\"\n",
        "rev = str_my[::-1]\n",
        "print(str_my)\n",
        "print(rev)"
      ]
    },
    {
      "cell_type": "code",
      "source": [
        "# using loop\n",
        "str_my = \"kiran\"\n",
        "rev = \"\"\n",
        "for char in str_my:\n",
        "  rev=char+rev\n",
        "print(rev)\n"
      ],
      "metadata": {
        "colab": {
          "base_uri": "https://localhost:8080/"
        },
        "id": "a9UF2Noh8w50",
        "outputId": "91d27a45-2217-4a76-9805-892afc698667"
      },
      "execution_count": 3,
      "outputs": [
        {
          "output_type": "stream",
          "name": "stdout",
          "text": [
            "narik\n"
          ]
        }
      ]
    },
    {
      "cell_type": "code",
      "source": [
        "# using reverse and join function\n",
        "str_my = \"kiran\"\n",
        "rev = ''.join(reversed(str_my))\n",
        "print(rev)"
      ],
      "metadata": {
        "colab": {
          "base_uri": "https://localhost:8080/"
        },
        "id": "K-g2Subn9iv8",
        "outputId": "541c5660-f211-415c-b5f6-21d8222a3b00"
      },
      "execution_count": 4,
      "outputs": [
        {
          "output_type": "stream",
          "name": "stdout",
          "text": [
            "narik\n"
          ]
        }
      ]
    },
    {
      "cell_type": "code",
      "source": [
        "# using list comprehensive\n",
        "str_my =\"kiran\"\n",
        "rev = ''.join([char for char in str_my[::-1]])\n",
        "print(rev)"
      ],
      "metadata": {
        "colab": {
          "base_uri": "https://localhost:8080/"
        },
        "id": "Ev989hmL-Aup",
        "outputId": "78bbcb3c-3c8c-4b65-a723-f586edaec9e0"
      },
      "execution_count": 5,
      "outputs": [
        {
          "output_type": "stream",
          "name": "stdout",
          "text": [
            "narik\n"
          ]
        }
      ]
    },
    {
      "cell_type": "code",
      "source": [],
      "metadata": {
        "id": "VWKMMMnk-m2J"
      },
      "execution_count": null,
      "outputs": []
    }
  ]
}